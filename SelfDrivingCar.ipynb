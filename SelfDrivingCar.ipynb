{
 "cells": [
  {
   "cell_type": "code",
   "execution_count": 1,
   "id": "c56f3f0e",
   "metadata": {},
   "outputs": [
    {
     "name": "stderr",
     "output_type": "stream",
     "text": [
      "2023-06-28 15:46:32.790202: I tensorflow/core/util/port.cc:110] oneDNN custom operations are on. You may see slightly different numerical results due to floating-point round-off errors from different computation orders. To turn them off, set the environment variable `TF_ENABLE_ONEDNN_OPTS=0`.\n",
      "2023-06-28 15:46:32.792340: I tensorflow/tsl/cuda/cudart_stub.cc:28] Could not find cuda drivers on your machine, GPU will not be used.\n",
      "2023-06-28 15:46:32.832295: I tensorflow/tsl/cuda/cudart_stub.cc:28] Could not find cuda drivers on your machine, GPU will not be used.\n",
      "2023-06-28 15:46:32.832821: I tensorflow/core/platform/cpu_feature_guard.cc:182] This TensorFlow binary is optimized to use available CPU instructions in performance-critical operations.\n",
      "To enable the following instructions: AVX2 AVX512F AVX512_VNNI FMA, in other operations, rebuild TensorFlow with the appropriate compiler flags.\n",
      "2023-06-28 15:46:33.566852: W tensorflow/compiler/tf2tensorrt/utils/py_utils.cc:38] TF-TRT Warning: Could not find TensorRT\n"
     ]
    }
   ],
   "source": [
    "import cv2\n",
    "import csv\n",
    "import matplotlib.pyplot as plt\n",
    "import numpy as np\n",
    "import pandas as pd\n",
    "\n",
    "from sklearn.model_selection import train_test_split\n",
    "from sklearn.utils import shuffle\n",
    "\n",
    "from keras.layers import Dense, Activation, Flatten, Conv2D, Lambda, MaxPooling2D, Dropout, BatchNormalization\n",
    "from keras.models import Sequential\n",
    "from keras.optimizers import Adam"
   ]
  },
  {
   "cell_type": "code",
   "execution_count": 2,
   "id": "5e49d893",
   "metadata": {},
   "outputs": [],
   "source": [
    "logs=[]\n",
    "features=[]\n",
    "labels=[]\n",
    "with open('/home/tejveer/Desktop/Self Driving Car/data/driving_log.csv', 'rt') as f:\n",
    "        rd= csv.reader(f)\n",
    "        for line in rd:\n",
    "            logs.append(line)\n",
    "        log_labels = logs.pop(0)\n",
    "for i in range(len(logs)):\n",
    "        for j in range(3):\n",
    "            img_path = logs[i][j]\n",
    "            img_path = '/home/tejveer/Desktop/Self Driving Car/data/' + 'IMG' + (img_path.split('IMG')[1]).strip()\n",
    "            img = plt.imread(img_path)\n",
    "            resized_image = cv2.resize((cv2.cvtColor(img, cv2.COLOR_RGB2HSV))[:, :, 1], (40, 40))\n",
    "            features.append(resized_image)\n",
    "            if j == 0:\n",
    "                labels.append(float(logs[i][3]))\n",
    "            elif j == 1:\n",
    "                labels.append(float(logs[i][3]) + 0.2)\n",
    "            else:\n",
    "                labels.append(float(logs[i][3]) - 0.2)\n",
    "                \n",
    "features = np.array(features).astype('float32')\n",
    "labels = np.array(labels).astype('float32')"
   ]
  },
  {
   "cell_type": "code",
   "execution_count": 3,
   "id": "159db65e",
   "metadata": {},
   "outputs": [
    {
     "name": "stdout",
     "output_type": "stream",
     "text": [
      "Model: \"sequential\"\n",
      "_________________________________________________________________\n",
      " Layer (type)                Output Shape              Param #   \n",
      "=================================================================\n",
      " lambda (Lambda)             (None, 40, 40, 1)         0         \n",
      "                                                                 \n",
      " conv2d (Conv2D)             (None, 40, 40, 16)        160       \n",
      "                                                                 \n",
      " conv2d_1 (Conv2D)           (None, 40, 40, 16)        2320      \n",
      "                                                                 \n",
      " conv2d_2 (Conv2D)           (None, 40, 40, 32)        4640      \n",
      "                                                                 \n",
      " conv2d_3 (Conv2D)           (None, 40, 40, 32)        9248      \n",
      "                                                                 \n",
      " max_pooling2d (MaxPooling2D  (None, 20, 20, 32)       0         \n",
      " )                                                               \n",
      "                                                                 \n",
      " conv2d_4 (Conv2D)           (None, 20, 20, 64)        18496     \n",
      "                                                                 \n",
      " conv2d_5 (Conv2D)           (None, 20, 20, 64)        36928     \n",
      "                                                                 \n",
      " max_pooling2d_1 (MaxPooling  (None, 10, 10, 64)       0         \n",
      " 2D)                                                             \n",
      "                                                                 \n",
      " conv2d_6 (Conv2D)           (None, 10, 10, 128)       73856     \n",
      "                                                                 \n",
      " max_pooling2d_2 (MaxPooling  (None, 5, 5, 128)        0         \n",
      " 2D)                                                             \n",
      "                                                                 \n",
      " conv2d_7 (Conv2D)           (None, 5, 5, 128)         147584    \n",
      "                                                                 \n",
      " max_pooling2d_3 (MaxPooling  (None, 2, 2, 128)        0         \n",
      " 2D)                                                             \n",
      "                                                                 \n",
      " flatten (Flatten)           (None, 512)               0         \n",
      "                                                                 \n",
      " dropout (Dropout)           (None, 512)               0         \n",
      "                                                                 \n",
      " batch_normalization (BatchN  (None, 512)              2048      \n",
      " ormalization)                                                   \n",
      "                                                                 \n",
      " dense (Dense)               (None, 512)               262656    \n",
      "                                                                 \n",
      " dense_1 (Dense)             (None, 256)               131328    \n",
      "                                                                 \n",
      " dense_2 (Dense)             (None, 64)                16448     \n",
      "                                                                 \n",
      " dense_3 (Dense)             (None, 1)                 65        \n",
      "                                                                 \n",
      "=================================================================\n",
      "Total params: 705,777\n",
      "Trainable params: 704,753\n",
      "Non-trainable params: 1,024\n",
      "_________________________________________________________________\n"
     ]
    },
    {
     "name": "stderr",
     "output_type": "stream",
     "text": [
      "/home/tejveer/anaconda3/lib/python3.9/site-packages/keras/optimizers/legacy/adam.py:117: UserWarning: The `lr` argument is deprecated, use `learning_rate` instead.\n",
      "  super().__init__(name, **kwargs)\n"
     ]
    }
   ],
   "source": [
    "model = Sequential()\n",
    "model.add(Lambda(lambda x: x / 127.5 - 1., input_shape=(40, 40, 1)))\n",
    "\n",
    "model.add(Conv2D(16, (3, 3), padding='same',activation='relu'))\n",
    "model.add(Conv2D(16, (3, 3), padding='same',activation='relu'))\n",
    "    \n",
    "model.add(Conv2D(32, (3, 3), padding='same',activation='relu'))\n",
    "model.add(Conv2D(32, (3, 3), padding='same',activation='relu'))\n",
    "model.add(MaxPooling2D((2, 2), padding='valid'))\n",
    "    \n",
    "model.add(Conv2D(64, (3, 3), padding='same',activation='relu'))\n",
    "model.add(Conv2D(64, (3, 3), padding='same',activation='relu'))\n",
    "model.add(MaxPooling2D((2, 2), padding='valid'))\n",
    "    \n",
    "model.add(Conv2D(128, (3, 3), padding='same',activation='relu'))\n",
    "model.add(MaxPooling2D((2, 2), padding='valid'))\n",
    "\n",
    "model.add(Conv2D(128, (3, 3), padding='same',activation='relu'))\n",
    "model.add(MaxPooling2D((2, 2), padding='valid'))\n",
    "\n",
    "model.add(Flatten())\n",
    "model.add(Dropout(0.5))\n",
    "    \n",
    "model.add(BatchNormalization())\n",
    "model.add(Dense(512))\n",
    "model.add(Dense(256))\n",
    "model.add(Dense(64))\n",
    "model.add(Dense(1))\n",
    "    \n",
    "model.compile(optimizer=Adam(lr=0.0001), loss=\"mse\")\n",
    "model.summary()"
   ]
  },
  {
   "cell_type": "code",
   "execution_count": 4,
   "id": "cef5315a",
   "metadata": {},
   "outputs": [],
   "source": [
    "features, labels = shuffle(features, labels)\n",
    "train_x, val_x, train_y, val_y = train_test_split(features, labels, random_state=42, test_size=0.20)\n",
    "train_x = train_x.reshape(train_x.shape[0], 40, 40, 1)\n",
    "val_x = val_x.reshape(val_x.shape[0], 40, 40, 1)"
   ]
  },
  {
   "cell_type": "code",
   "execution_count": 5,
   "id": "c994c1d1",
   "metadata": {},
   "outputs": [
    {
     "name": "stdout",
     "output_type": "stream",
     "text": [
      "Epoch 1/10\n",
      "603/603 [==============================] - 91s 150ms/step - loss: 0.0291 - val_loss: 0.0212\n",
      "Epoch 2/10\n",
      "603/603 [==============================] - 76s 126ms/step - loss: 0.0147 - val_loss: 0.0102\n",
      "Epoch 3/10\n",
      "603/603 [==============================] - 76s 126ms/step - loss: 0.0135 - val_loss: 0.0100\n",
      "Epoch 4/10\n",
      "603/603 [==============================] - 71s 118ms/step - loss: 0.0127 - val_loss: 0.0094\n",
      "Epoch 5/10\n",
      "603/603 [==============================] - 90s 150ms/step - loss: 0.0124 - val_loss: 0.0117\n",
      "Epoch 6/10\n",
      "603/603 [==============================] - 80s 133ms/step - loss: 0.0122 - val_loss: 0.0092\n",
      "Epoch 7/10\n",
      "603/603 [==============================] - 89s 148ms/step - loss: 0.0118 - val_loss: 0.0094\n",
      "Epoch 8/10\n",
      "603/603 [==============================] - 92s 152ms/step - loss: 0.0115 - val_loss: 0.0088\n",
      "Epoch 9/10\n",
      "603/603 [==============================] - 80s 132ms/step - loss: 0.0111 - val_loss: 0.0085\n",
      "Epoch 10/10\n",
      "603/603 [==============================] - 84s 139ms/step - loss: 0.0108 - val_loss: 0.0084\n"
     ]
    }
   ],
   "source": [
    "filepath = \"./SelfDriving.h5\"\n",
    "model.fit(train_x, train_y, validation_data=(val_x, val_y), epochs=10, batch_size=32)\n",
    "\n",
    "model.save(filepath)"
   ]
  }
 ],
 "metadata": {
  "kernelspec": {
   "display_name": "Python 3 (ipykernel)",
   "language": "python",
   "name": "python3"
  },
  "language_info": {
   "codemirror_mode": {
    "name": "ipython",
    "version": 3
   },
   "file_extension": ".py",
   "mimetype": "text/x-python",
   "name": "python",
   "nbconvert_exporter": "python",
   "pygments_lexer": "ipython3",
   "version": "3.9.13"
  }
 },
 "nbformat": 4,
 "nbformat_minor": 5
}
